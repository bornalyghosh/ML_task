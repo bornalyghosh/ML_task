{
 "cells": [
  {
   "cell_type": "code",
   "execution_count": 1,
   "id": "a2f4bce8",
   "metadata": {},
   "outputs": [
    {
     "name": "stdout",
     "output_type": "stream",
     "text": [
      "Average Values:\n",
      "nan\n"
     ]
    }
   ],
   "source": [
    "import pandas as pd\n",
    "\n",
    "data = pd.read_csv(r\"C:\\\\Users\\\\borna\\\\Downloads\\\\weather_observations.csv\")\n",
    "desired_parameters = [\"Relative Humidity\", \"Temperature Average\", \"Wind Speed\", \"Precipitation Amount\", \"Pressure Average\"]\n",
    "filtered_data = data[data[\"ParameterName\"].isin(desired_parameters)]\n",
    "numeric_data = filtered_data[\"ParameterValue\"].apply(pd.to_numeric, errors='coerce')\n",
    "average_values = numeric_data.mean()\n",
    "print(\"Average Values:\")\n",
    "print(average_values)\n"
   ]
  },
  {
   "cell_type": "code",
   "execution_count": 4,
   "id": "7bc28c55",
   "metadata": {},
   "outputs": [
    {
     "name": "stdout",
     "output_type": "stream",
     "text": [
      "\n",
      "Parameter: i\n",
      "  No valid data for this parameter.\n",
      "\n",
      "Parameter: a\n",
      "  No valid data for this parameter.\n"
     ]
    }
   ],
   "source": [
    "import numpy as np\n",
    "parameter_data = {}\n",
    "for row in data:\n",
    "    parameter = row[1]\n",
    "    value = row[2]\n",
    "    if parameter not in parameter_data:\n",
    "        parameter_data[parameter] = []\n",
    "    parameter_data[parameter].append(value)\n",
    "\n",
    "for parameter, values in parameter_data.items():\n",
    "    try:\n",
    "        values = np.array([float(val) for val in values if val is not None])\n",
    "    except ValueError:\n",
    "        values = np.full(len(values), np.nan)\n",
    "    parameter_data[parameter] = values\n",
    "for parameter, values in parameter_data.items():\n",
    "    print(f\"\\nParameter: {parameter}\")\n",
    "    if not np.isnan(values).all():\n",
    "        print(f\"  Minimum: {np.min(values)}\")\n",
    "        print(f\"  Maximum: {np.max(values)}\")\n",
    "        print(f\"  Median: {np.median(values)}\")\n",
    "\n",
    "        highest_value_indices = np.where(values == np.max(values))[0]\n",
    "        corresponding_times = data[highest_value_indices, 0]\n",
    "        print(f\"  Hour(s) with Highest Value: {corresponding_times}\")\n",
    "    else:\n",
    "        print(\"  No valid data for this parameter.\")\n"
   ]
  },
  {
   "cell_type": "code",
   "execution_count": null,
   "id": "3cbe1773",
   "metadata": {},
   "outputs": [],
   "source": []
  }
 ],
 "metadata": {
  "kernelspec": {
   "display_name": "Python 3 (ipykernel)",
   "language": "python",
   "name": "python3"
  },
  "language_info": {
   "codemirror_mode": {
    "name": "ipython",
    "version": 3
   },
   "file_extension": ".py",
   "mimetype": "text/x-python",
   "name": "python",
   "nbconvert_exporter": "python",
   "pygments_lexer": "ipython3",
   "version": "3.11.4"
  }
 },
 "nbformat": 4,
 "nbformat_minor": 5
}
